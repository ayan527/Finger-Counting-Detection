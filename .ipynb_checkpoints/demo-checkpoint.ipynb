{
 "cells": [
  {
   "cell_type": "code",
   "execution_count": 1,
   "metadata": {},
   "outputs": [
    {
     "name": "stdout",
     "output_type": "stream",
     "text": [
      "env: OPENCV_VIDEOIO_PRIORITY_MSMF=0\n"
     ]
    }
   ],
   "source": [
    "import cv2\n",
    "import numpy as np\n",
    "\n",
    "%env OPENCV_VIDEOIO_PRIORITY_MSMF 0"
   ]
  },
  {
   "cell_type": "code",
   "execution_count": 2,
   "metadata": {},
   "outputs": [],
   "source": [
    "background = None\n",
    "\n",
    "capture = cv2.VideoCapture(0)\n",
    "\n",
    "ret,prevFrame = capture.read()\n",
    "\n",
    "if ret == True:\n",
    "    #cv2.flip(prevFrame,0)\n",
    "    background = prevFrame.copy().astype('float32')\n",
    "    \n",
    "while True:\n",
    "    ret,currFrame = capture.read()\n",
    "    \n",
    "    if not ret:\n",
    "        break\n",
    "    else:\n",
    "        #cv2.flip(currFrame,0)\n",
    "        cv2.accumulateWeighted(currFrame,background,alpha=0.1)\n",
    "        finalFrame = cv2.convertScaleAbs(background)\n",
    "        #finalFrame = cv2.absdiff(currFrame,background.astype('uint8'))\n",
    "        \n",
    "        cv2.imshow('Original', currFrame)\n",
    "        cv2.imshow('Background', finalFrame)\n",
    "        \n",
    "    if cv2.waitKey(1) & 0xFF == ord('q'):\n",
    "        break\n",
    "\n",
    "capture.release()\n",
    "cv2.destroyAllWindows()"
   ]
  },
  {
   "cell_type": "code",
   "execution_count": null,
   "metadata": {},
   "outputs": [],
   "source": []
  },
  {
   "cell_type": "code",
   "execution_count": null,
   "metadata": {},
   "outputs": [],
   "source": []
  }
 ],
 "metadata": {
  "kernelspec": {
   "display_name": "Python 3",
   "language": "python",
   "name": "python3"
  },
  "language_info": {
   "codemirror_mode": {
    "name": "ipython",
    "version": 3
   },
   "file_extension": ".py",
   "mimetype": "text/x-python",
   "name": "python",
   "nbconvert_exporter": "python",
   "pygments_lexer": "ipython3",
   "version": "3.6.6"
  }
 },
 "nbformat": 4,
 "nbformat_minor": 2
}
